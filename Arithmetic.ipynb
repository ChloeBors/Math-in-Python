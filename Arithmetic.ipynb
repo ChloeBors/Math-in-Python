{
 "cells": [
  {
   "cell_type": "markdown",
   "id": "ff7afb46",
   "metadata": {},
   "source": [
    "# Arithmetic Math"
   ]
  },
  {
   "cell_type": "code",
   "execution_count": 2,
   "id": "846e8004",
   "metadata": {},
   "outputs": [],
   "source": [
    "from IPython.display import display, Math"
   ]
  },
  {
   "cell_type": "markdown",
   "id": "8a93cc66",
   "metadata": {},
   "source": [
    "## Addition, subtraction, multiplication and division\n",
    "Basic use of + - * /"
   ]
  },
  {
   "cell_type": "markdown",
   "id": "0bf069b3",
   "metadata": {},
   "source": [
    "### Exercise 1"
   ]
  },
  {
   "cell_type": "code",
   "execution_count": 1,
   "id": "dc8e0041",
   "metadata": {},
   "outputs": [
    {
     "data": {
      "text/plain": [
       "4.7"
      ]
     },
     "execution_count": 1,
     "metadata": {},
     "output_type": "execute_result"
    }
   ],
   "source": [
    "# Answer has to be 4.7\n",
    "5 - (2/4) * (3/5)"
   ]
  },
  {
   "cell_type": "code",
   "execution_count": 3,
   "id": "bc9fb32f",
   "metadata": {},
   "outputs": [
    {
     "data": {
      "text/plain": [
       "-0.0303"
      ]
     },
     "execution_count": 3,
     "metadata": {},
     "output_type": "execute_result"
    }
   ],
   "source": [
    "# Answer has to be -0.0303\n",
    "round((4-5)/(3+5*6),4)"
   ]
  },
  {
   "cell_type": "markdown",
   "id": "045d3bb4",
   "metadata": {},
   "source": [
    "## Variables in place of numbers\n",
    "Calculate with variables that have been assigned numbers"
   ]
  },
  {
   "cell_type": "markdown",
   "id": "8ffe6260",
   "metadata": {},
   "source": [
    "### Exercise 2"
   ]
  },
  {
   "cell_type": "code",
   "execution_count": 6,
   "id": "d4d5d32e",
   "metadata": {},
   "outputs": [],
   "source": [
    "x = 7\n",
    "y = -2\n",
    "z = 5"
   ]
  },
  {
   "cell_type": "code",
   "execution_count": 7,
   "id": "ef051432",
   "metadata": {},
   "outputs": [
    {
     "data": {
      "text/plain": [
       "42"
      ]
     },
     "execution_count": 7,
     "metadata": {},
     "output_type": "execute_result"
    }
   ],
   "source": [
    "# Answer has to be 42\n",
    "3*x*(4+y)"
   ]
  },
  {
   "cell_type": "code",
   "execution_count": 11,
   "id": "f885591a",
   "metadata": {},
   "outputs": [
    {
     "data": {
      "text/plain": [
       "0.0"
      ]
     },
     "execution_count": 11,
     "metadata": {},
     "output_type": "execute_result"
    }
   ],
   "source": [
    "# Answer has to be 0\n",
    "-y-(x+3)/(z)"
   ]
  },
  {
   "cell_type": "markdown",
   "id": "3c835da7",
   "metadata": {},
   "source": [
    "## Printing out equations\n",
    "Using IPython display and Math"
   ]
  },
  {
   "cell_type": "code",
   "execution_count": 12,
   "id": "838fc214",
   "metadata": {},
   "outputs": [],
   "source": [
    "from IPython.display import display, Math"
   ]
  },
  {
   "cell_type": "code",
   "execution_count": 25,
   "id": "fdc845c7",
   "metadata": {},
   "outputs": [
    {
     "data": {
      "text/latex": [
       "$\\displaystyle 4+3=7$"
      ],
      "text/plain": [
       "<IPython.core.display.Math object>"
      ]
     },
     "metadata": {},
     "output_type": "display_data"
    }
   ],
   "source": [
    "# Takes a string to print out math equations\n",
    "display(Math('4+3=7'))"
   ]
  },
  {
   "cell_type": "code",
   "execution_count": 27,
   "id": "93ccc44b",
   "metadata": {},
   "outputs": [
    {
     "data": {
      "text/latex": [
       "$\\displaystyle 4+5=9$"
      ],
      "text/plain": [
       "<IPython.core.display.Math object>"
      ]
     },
     "metadata": {},
     "output_type": "display_data"
    },
    {
     "data": {
      "text/latex": [
       "$\\displaystyle 4+5=9$"
      ],
      "text/plain": [
       "<IPython.core.display.Math object>"
      ]
     },
     "metadata": {},
     "output_type": "display_data"
    }
   ],
   "source": [
    "# Variables can be used as shown below\n",
    "x = 4\n",
    "y = 5\n",
    "\n",
    "display(Math(str(x) + '+' + str(y) + '=' + str(x+y)))\n",
    "display(Math('%g+%g=%g' %(x,y,x+y)))"
   ]
  },
  {
   "cell_type": "code",
   "execution_count": 29,
   "id": "118ae7c0",
   "metadata": {},
   "outputs": [
    {
     "data": {
      "text/latex": [
       "$\\displaystyle 4/5 = .8$"
      ],
      "text/plain": [
       "<IPython.core.display.Math object>"
      ]
     },
     "metadata": {},
     "output_type": "display_data"
    },
    {
     "data": {
      "text/latex": [
       "$\\displaystyle \\frac{4}{5} = .8$"
      ],
      "text/plain": [
       "<IPython.core.display.Math object>"
      ]
     },
     "metadata": {},
     "output_type": "display_data"
    }
   ],
   "source": [
    "# Fraction needs to use latex coding by using \\\\frac\n",
    "display(Math('4/5 = .8'))\n",
    "display(Math('\\\\frac{4}{5} = .8'))"
   ]
  },
  {
   "cell_type": "code",
   "execution_count": 30,
   "id": "5323ad18",
   "metadata": {},
   "outputs": [
    {
     "data": {
      "text/latex": [
       "$\\displaystyle 3.4 \\times 17 = 57.8$"
      ],
      "text/plain": [
       "<IPython.core.display.Math object>"
      ]
     },
     "metadata": {},
     "output_type": "display_data"
    }
   ],
   "source": [
    "# Latex can also be used by doing multiplication\n",
    "x = 3.4\n",
    "y = 17\n",
    "\n",
    "display(Math('%g \\\\times %g = %g' %(x,y,x*y)))"
   ]
  },
  {
   "cell_type": "markdown",
   "id": "279a13f4",
   "metadata": {},
   "source": [
    "### Exercise 3"
   ]
  },
  {
   "cell_type": "code",
   "execution_count": 72,
   "id": "4ff84cc9",
   "metadata": {},
   "outputs": [],
   "source": [
    "x = 7\n",
    "y = -2\n",
    "z = 5"
   ]
  },
  {
   "cell_type": "code",
   "execution_count": 75,
   "id": "7575c41a",
   "metadata": {},
   "outputs": [
    {
     "data": {
      "text/latex": [
       "$\\displaystyle 3 \\times 7  (4 + -2) = 42$"
      ],
      "text/plain": [
       "<IPython.core.display.Math object>"
      ]
     },
     "metadata": {},
     "output_type": "display_data"
    }
   ],
   "source": [
    "# Answer has to be 42\n",
    "display(Math('3 \\\\times %g  (4 + %g) = %g' %(x,y, 3*x*(4+y))))"
   ]
  },
  {
   "cell_type": "code",
   "execution_count": 74,
   "id": "fa8cd07a",
   "metadata": {},
   "outputs": [
    {
     "data": {
      "text/latex": [
       "$\\displaystyle --2-\\frac{7 + 3}{5} = 0$"
      ],
      "text/plain": [
       "<IPython.core.display.Math object>"
      ]
     },
     "metadata": {},
     "output_type": "display_data"
    }
   ],
   "source": [
    "# Answer has to be 0\n",
    "display(Math('-%g-\\\\frac{%g + 3}{%g} = %g' %(y, x, z, -y-(x+3)/z)))"
   ]
  },
  {
   "cell_type": "markdown",
   "id": "4ec65220",
   "metadata": {},
   "source": [
    "## Exponents (powers)\n",
    "How to compute powers in Python and how to print it using LaTeX <br>\n",
    "Multiplying base x amount of times. With the same base you can add the exponents"
   ]
  },
  {
   "cell_type": "code",
   "execution_count": 77,
   "id": "0e339b79",
   "metadata": {},
   "outputs": [],
   "source": [
    "from IPython.display import display, Math"
   ]
  },
  {
   "cell_type": "code",
   "execution_count": 79,
   "id": "217c97bd",
   "metadata": {},
   "outputs": [
    {
     "data": {
      "text/latex": [
       "$\\displaystyle 3^2 = 9$"
      ],
      "text/plain": [
       "<IPython.core.display.Math object>"
      ]
     },
     "metadata": {},
     "output_type": "display_data"
    }
   ],
   "source": [
    "display(Math('3^2 = %g' %3**2))"
   ]
  },
  {
   "cell_type": "code",
   "execution_count": 82,
   "id": "a7075604",
   "metadata": {},
   "outputs": [
    {
     "data": {
      "text/latex": [
       "$\\displaystyle 3^2\\times3^4 = 3^{2+4}$"
      ],
      "text/plain": [
       "<IPython.core.display.Math object>"
      ]
     },
     "metadata": {},
     "output_type": "display_data"
    }
   ],
   "source": [
    "display(Math('3^2\\\\times3^4 = 3^{2+4}'))"
   ]
  },
  {
   "cell_type": "markdown",
   "id": "9d0d0aee",
   "metadata": {},
   "source": [
    "### Exercise 4"
   ]
  },
  {
   "cell_type": "code",
   "execution_count": 84,
   "id": "0568a275",
   "metadata": {},
   "outputs": [],
   "source": [
    "x = 5\n",
    "y = 5.1"
   ]
  },
  {
   "cell_type": "code",
   "execution_count": 95,
   "id": "c50be6a5",
   "metadata": {},
   "outputs": [
    {
     "data": {
      "text/latex": [
       "$\\displaystyle x^\\frac{3}{4}\\times4^y = 3933.09$"
      ],
      "text/plain": [
       "<IPython.core.display.Math object>"
      ]
     },
     "metadata": {},
     "output_type": "display_data"
    }
   ],
   "source": [
    "# Answer has to be 3933.09\n",
    "display(Math('x^\\\\frac{3}{4}\\\\times4^y = %g' %(x**(3/4)*4**y)))"
   ]
  },
  {
   "cell_type": "code",
   "execution_count": 99,
   "id": "66985d04",
   "metadata": {},
   "outputs": [
    {
     "data": {
      "text/latex": [
       "$\\displaystyle \\frac{3^3}{x^y} = 0.00735558$"
      ],
      "text/plain": [
       "<IPython.core.display.Math object>"
      ]
     },
     "metadata": {},
     "output_type": "display_data"
    }
   ],
   "source": [
    "# Answer has to be 0.00735558\n",
    "answer = (3**3)/(x**y)\n",
    "display(Math('\\\\frac{3^3}{x^y} = %g' %answer))"
   ]
  },
  {
   "cell_type": "code",
   "execution_count": 103,
   "id": "8f58b8ef",
   "metadata": {},
   "outputs": [
    {
     "data": {
      "text/latex": [
       "$\\displaystyle 10^{x-4} = 10$"
      ],
      "text/plain": [
       "<IPython.core.display.Math object>"
      ]
     },
     "metadata": {},
     "output_type": "display_data"
    }
   ],
   "source": [
    "# Answer has to be 10\n",
    "answer = 10**(x-4)\n",
    "display(Math('10^{x-4} = %g' %answer))"
   ]
  },
  {
   "cell_type": "markdown",
   "id": "cce578c8",
   "metadata": {},
   "source": [
    "## Using for-loops to compute powers"
   ]
  },
  {
   "cell_type": "markdown",
   "id": "1fdad8c8",
   "metadata": {},
   "source": [
    "### Exercise 5 - Create for loop of 2 to the power of a range and print results"
   ]
  },
  {
   "cell_type": "code",
   "execution_count": 2,
   "id": "014011d9",
   "metadata": {},
   "outputs": [
    {
     "name": "stdout",
     "output_type": "stream",
     "text": [
      "2 to the power of 0 is 1\n",
      "2 to the power of 1 is 2\n",
      "2 to the power of 2 is 4\n",
      "2 to the power of 3 is 8\n",
      "2 to the power of 4 is 16\n",
      "2 to the power of 5 is 32\n",
      "2 to the power of 6 is 64\n",
      "2 to the power of 7 is 128\n",
      "2 to the power of 8 is 256\n",
      "2 to the power of 9 is 512\n"
     ]
    }
   ],
   "source": [
    "for num in range(0,10):\n",
    "    val = 2**num\n",
    "    print(f'2 to the power of {num} is {val}')"
   ]
  },
  {
   "cell_type": "markdown",
   "id": "193a0835",
   "metadata": {},
   "source": [
    "## Order of operations"
   ]
  },
  {
   "cell_type": "markdown",
   "id": "693a508e",
   "metadata": {},
   "source": [
    "Order: <br>\n",
    "- Parantheses\n",
    "- Exponents\n",
    "- Multiplication & Division\n",
    "- Addition & Subtraction"
   ]
  },
  {
   "cell_type": "markdown",
   "id": "e13ad472",
   "metadata": {},
   "source": [
    "### Exercise 6 - Add parantheses to make the equations true"
   ]
  },
  {
   "cell_type": "code",
   "execution_count": 14,
   "id": "4cdb9fbb",
   "metadata": {},
   "outputs": [
    {
     "data": {
      "text/latex": [
       "$\\displaystyle 4\\times \\frac{5}{7 + 3} = 2$"
      ],
      "text/plain": [
       "<IPython.core.display.Math object>"
      ]
     },
     "metadata": {},
     "output_type": "display_data"
    }
   ],
   "source": [
    "# 4 x 5 / 7 + 3 = 2\n",
    "answer = 4 * 5 / (7 + 3)\n",
    "display(Math('4\\\\times \\\\frac{5}{7 + 3} = %g' %answer))"
   ]
  },
  {
   "cell_type": "code",
   "execution_count": 9,
   "id": "63e52b4d",
   "metadata": {},
   "outputs": [
    {
     "data": {
      "text/latex": [
       "$\\displaystyle \\frac{9}{3+6} - 1 = 0$"
      ],
      "text/plain": [
       "<IPython.core.display.Math object>"
      ]
     },
     "metadata": {},
     "output_type": "display_data"
    }
   ],
   "source": [
    "# 9 / 3 + 6 - 1 = 0\n",
    "answer = 9 / (3 + 6) - 1\n",
    "display(Math('\\\\frac{9}{3+6} - 1 = %g' %answer))"
   ]
  },
  {
   "cell_type": "markdown",
   "id": "2f6c0d6f",
   "metadata": {},
   "source": [
    "## Testing inequalities and Boolean data type"
   ]
  },
  {
   "cell_type": "markdown",
   "id": "fad0f964",
   "metadata": {},
   "source": [
    "### Exercise 7 - Should x be 2, 3 or 4 to get True?"
   ]
  },
  {
   "cell_type": "code",
   "execution_count": 21,
   "id": "f2b9c69b",
   "metadata": {},
   "outputs": [
    {
     "data": {
      "text/plain": [
       "True"
      ]
     },
     "execution_count": 21,
     "metadata": {},
     "output_type": "execute_result"
    }
   ],
   "source": [
    "# 4x + 3 < 17 - x^2\n",
    "x = 2\n",
    "4*x+3<17-x**2"
   ]
  },
  {
   "cell_type": "code",
   "execution_count": 25,
   "id": "a0547aa4",
   "metadata": {},
   "outputs": [
    {
     "data": {
      "text/plain": [
       "True"
      ]
     },
     "execution_count": 25,
     "metadata": {},
     "output_type": "execute_result"
    }
   ],
   "source": [
    "# 8x - 2 <= -3x + 42\n",
    "x = 2\n",
    "x = 3\n",
    "x = 4 # they are true for all three values\n",
    "8*x-2<=-3*x+42"
   ]
  },
  {
   "cell_type": "markdown",
   "id": "b9ca8c82",
   "metadata": {},
   "source": [
    "## Using if-statements and logical operators"
   ]
  },
  {
   "cell_type": "markdown",
   "id": "6add6948",
   "metadata": {},
   "source": [
    "### Exercise 8 - Loop over numbers 0-3 -> loop over numbers 0-4 and print i-^j for numbers where i>0 and j>0"
   ]
  },
  {
   "cell_type": "code",
   "execution_count": 8,
   "id": "5554df75",
   "metadata": {},
   "outputs": [
    {
     "data": {
      "text/latex": [
       "$\\displaystyle 1^{-1} = 1$"
      ],
      "text/plain": [
       "<IPython.core.display.Math object>"
      ]
     },
     "metadata": {},
     "output_type": "display_data"
    },
    {
     "data": {
      "text/latex": [
       "$\\displaystyle 1^{-2} = 1$"
      ],
      "text/plain": [
       "<IPython.core.display.Math object>"
      ]
     },
     "metadata": {},
     "output_type": "display_data"
    },
    {
     "data": {
      "text/latex": [
       "$\\displaystyle 1^{-3} = 1$"
      ],
      "text/plain": [
       "<IPython.core.display.Math object>"
      ]
     },
     "metadata": {},
     "output_type": "display_data"
    },
    {
     "data": {
      "text/latex": [
       "$\\displaystyle 1^{-4} = 1$"
      ],
      "text/plain": [
       "<IPython.core.display.Math object>"
      ]
     },
     "metadata": {},
     "output_type": "display_data"
    },
    {
     "data": {
      "text/latex": [
       "$\\displaystyle 2^{-1} = 0.5$"
      ],
      "text/plain": [
       "<IPython.core.display.Math object>"
      ]
     },
     "metadata": {},
     "output_type": "display_data"
    },
    {
     "data": {
      "text/latex": [
       "$\\displaystyle 2^{-2} = 0.25$"
      ],
      "text/plain": [
       "<IPython.core.display.Math object>"
      ]
     },
     "metadata": {},
     "output_type": "display_data"
    },
    {
     "data": {
      "text/latex": [
       "$\\displaystyle 2^{-3} = 0.125$"
      ],
      "text/plain": [
       "<IPython.core.display.Math object>"
      ]
     },
     "metadata": {},
     "output_type": "display_data"
    },
    {
     "data": {
      "text/latex": [
       "$\\displaystyle 2^{-4} = 0.0625$"
      ],
      "text/plain": [
       "<IPython.core.display.Math object>"
      ]
     },
     "metadata": {},
     "output_type": "display_data"
    },
    {
     "data": {
      "text/latex": [
       "$\\displaystyle 3^{-1} = 0.333333$"
      ],
      "text/plain": [
       "<IPython.core.display.Math object>"
      ]
     },
     "metadata": {},
     "output_type": "display_data"
    },
    {
     "data": {
      "text/latex": [
       "$\\displaystyle 3^{-2} = 0.111111$"
      ],
      "text/plain": [
       "<IPython.core.display.Math object>"
      ]
     },
     "metadata": {},
     "output_type": "display_data"
    },
    {
     "data": {
      "text/latex": [
       "$\\displaystyle 3^{-3} = 0.037037$"
      ],
      "text/plain": [
       "<IPython.core.display.Math object>"
      ]
     },
     "metadata": {},
     "output_type": "display_data"
    },
    {
     "data": {
      "text/latex": [
       "$\\displaystyle 3^{-4} = 0.0123457$"
      ],
      "text/plain": [
       "<IPython.core.display.Math object>"
      ]
     },
     "metadata": {},
     "output_type": "display_data"
    }
   ],
   "source": [
    "for num in range (0,4):\n",
    "    i = num\n",
    "    for num in range(0,5):\n",
    "        j = num\n",
    "        if i > 0 and j > 0:\n",
    "            answer = i**-j\n",
    "            display(Math('%g^{-%g} = %g' %(i, j, answer)))"
   ]
  },
  {
   "cell_type": "markdown",
   "id": "3c55374c",
   "metadata": {},
   "source": [
    "## Absolute value\n",
    "Absolute value is the distance of the number to the origin of the number line"
   ]
  },
  {
   "cell_type": "code",
   "execution_count": 4,
   "id": "1a4c8b6e",
   "metadata": {},
   "outputs": [
    {
     "data": {
      "text/latex": [
       "$\\displaystyle |-4.3| = 4.3$"
      ],
      "text/plain": [
       "<IPython.core.display.Math object>"
      ]
     },
     "metadata": {},
     "output_type": "display_data"
    }
   ],
   "source": [
    "x = -4.3\n",
    "answer = abs(x)\n",
    "\n",
    "display(Math('|%g| = %g' %(x, answer)))"
   ]
  },
  {
   "cell_type": "markdown",
   "id": "ce97a602",
   "metadata": {},
   "source": [
    "### Exercise 9 - Print the absolute value of each of a set of numbers only if each number is < -5 or > 2"
   ]
  },
  {
   "cell_type": "code",
   "execution_count": 6,
   "id": "3c29ce13",
   "metadata": {},
   "outputs": [
    {
     "name": "stdout",
     "output_type": "stream",
     "text": [
      "-4 was not tested.\n",
      "Absolute value of 6 is 6.\n",
      "-1 was not tested.\n",
      "Absolute value of 43 is 43.\n",
      "Absolute value of -18 is 18.\n",
      "2 was not tested.\n",
      "0 was not tested.\n"
     ]
    }
   ],
   "source": [
    "li = [-4, 6, -1, 43, -18, 2, 0]\n",
    "\n",
    "for num in li:\n",
    "    if num < -5 or num > 2:\n",
    "        print(f'Absolute value of {num} is {abs(num)}.')\n",
    "    else:\n",
    "        print(f'{num} was not tested.')"
   ]
  },
  {
   "cell_type": "markdown",
   "id": "bb01c2da",
   "metadata": {},
   "source": [
    "## Remainder after division (modulus)"
   ]
  },
  {
   "cell_type": "markdown",
   "id": "d1445961",
   "metadata": {},
   "source": [
    "### Exercise 10 - Print if even or odd"
   ]
  },
  {
   "cell_type": "code",
   "execution_count": 8,
   "id": "152e5448",
   "metadata": {},
   "outputs": [
    {
     "name": "stdout",
     "output_type": "stream",
     "text": [
      "-5 is an odd number\n",
      "-4 is an even number\n",
      "-3 is an odd number\n",
      "-2 is an even number\n",
      "-1 is an odd number\n",
      "0 is an even number\n",
      "1 is an odd number\n",
      "2 is an even number\n",
      "3 is an odd number\n",
      "4 is an even number\n",
      "5 is an odd number\n"
     ]
    }
   ],
   "source": [
    "li = [-5, -4, -3, -2, -1, 0, 1, 2, 3, 4, 5]\n",
    "\n",
    "for num in li:\n",
    "    if num % 2 == 0:\n",
    "        print(f'{num} is an even number')\n",
    "    else:\n",
    "        print(f'{num} is an odd number')"
   ]
  },
  {
   "cell_type": "markdown",
   "id": "728163f6",
   "metadata": {},
   "source": [
    "## Create interactive math functions"
   ]
  },
  {
   "cell_type": "code",
   "execution_count": 13,
   "id": "661ef842",
   "metadata": {},
   "outputs": [
    {
     "name": "stdout",
     "output_type": "stream",
     "text": [
      "3 goes into 10, 3 times, with a remainder of 1.\n"
     ]
    }
   ],
   "source": [
    "def computeremainder(x,y):\n",
    "    divis = int(x/y)\n",
    "    remainder = x%y\n",
    "    print(f'{y} goes into {x}, {divis} times, with a remainder of {remainder}.')\n",
    "    \n",
    "computeremainder(10, 3)"
   ]
  },
  {
   "cell_type": "markdown",
   "id": "763117ba",
   "metadata": {},
   "source": [
    "### Exercise 11 - Create functions that will compute x^y and x/y with user input and a function switch"
   ]
  },
  {
   "cell_type": "code",
   "execution_count": 71,
   "id": "2d883944",
   "metadata": {},
   "outputs": [],
   "source": [
    "def compute():\n",
    "    # x and y values\n",
    "    x = input('Give x input: ')\n",
    "    y = input('Give y input: ')\n",
    "    \n",
    "    # catch unvalid input\n",
    "    try:\n",
    "        x = float(x)\n",
    "        y = float(y)\n",
    "    except:\n",
    "        raise Exception('Enter valid integers for x and y input')\n",
    "        \n",
    "    # select function and catch unvalid input\n",
    "    display(Math('Enter \\: 1 \\: to \\: compute \\: %g^{%g} \\: or \\: 2 \\: to \\: compute \\: \\\\frac{%g}{%g}' %(x,y,x,y)))\n",
    "    function = input('Enter value: ')\n",
    "    if function != str(1) and function != str(2):\n",
    "        raise Exception('Enter only 1 or 2 to select a function')\n",
    "    elif function == str(1):\n",
    "        answer = x*y\n",
    "        display(Math('%g^{%g}=%g' %(x,y,answer)))\n",
    "    elif function == str(2):\n",
    "        answer = x/y\n",
    "        display(Math('\\\\frac{%g}{%g}=%g' %(x,y,answer)))"
   ]
  },
  {
   "cell_type": "code",
   "execution_count": 72,
   "id": "518d1175",
   "metadata": {
    "scrolled": true
   },
   "outputs": [
    {
     "name": "stdout",
     "output_type": "stream",
     "text": [
      "Give x input: 1\n",
      "Give y input: 1.2\n"
     ]
    },
    {
     "data": {
      "text/latex": [
       "$\\displaystyle Enter \\: 1 \\: to \\: compute \\: 1^{1.2} \\: or \\: 2 \\: to \\: compute \\: \\frac{1}{1.2}$"
      ],
      "text/plain": [
       "<IPython.core.display.Math object>"
      ]
     },
     "metadata": {},
     "output_type": "display_data"
    },
    {
     "name": "stdout",
     "output_type": "stream",
     "text": [
      "Enter value: 1\n"
     ]
    },
    {
     "data": {
      "text/latex": [
       "$\\displaystyle 1^{1.2}=1.2$"
      ],
      "text/plain": [
       "<IPython.core.display.Math object>"
      ]
     },
     "metadata": {},
     "output_type": "display_data"
    }
   ],
   "source": [
    "compute()"
   ]
  }
 ],
 "metadata": {
  "kernelspec": {
   "display_name": "Python 3 (ipykernel)",
   "language": "python",
   "name": "python3"
  },
  "language_info": {
   "codemirror_mode": {
    "name": "ipython",
    "version": 3
   },
   "file_extension": ".py",
   "mimetype": "text/x-python",
   "name": "python",
   "nbconvert_exporter": "python",
   "pygments_lexer": "ipython3",
   "version": "3.9.2"
  }
 },
 "nbformat": 4,
 "nbformat_minor": 5
}
