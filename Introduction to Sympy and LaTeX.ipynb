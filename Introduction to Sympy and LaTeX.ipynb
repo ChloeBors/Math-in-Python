{
 "cells": [
  {
   "cell_type": "markdown",
   "id": "e492fefb",
   "metadata": {},
   "source": [
    "# Introduction to Sympy and LaTeX"
   ]
  },
  {
   "cell_type": "code",
   "execution_count": 30,
   "id": "db7a19e9",
   "metadata": {},
   "outputs": [],
   "source": [
    "import sympy as sym\n",
    "from IPython.display import display, Math"
   ]
  },
  {
   "cell_type": "markdown",
   "id": "1476d1b9",
   "metadata": {},
   "source": [
    "## Intro to Sympy part 1 - Symbolic vs. numerical math\n",
    "Sympy helps you to work with symbolic numbers, since calculating them as numerical precision numbers gives a slightly different result."
   ]
  },
  {
   "cell_type": "code",
   "execution_count": 6,
   "id": "a7ed0500",
   "metadata": {},
   "outputs": [],
   "source": [
    "x = sym.symbols('x')"
   ]
  },
  {
   "cell_type": "code",
   "execution_count": 9,
   "id": "a36e78f9",
   "metadata": {},
   "outputs": [
    {
     "data": {
      "text/latex": [
       "$\\displaystyle x + 4$"
      ],
      "text/plain": [
       "x + 4"
      ]
     },
     "execution_count": 9,
     "metadata": {},
     "output_type": "execute_result"
    }
   ],
   "source": [
    "# x is a symbol\n",
    "x + 4"
   ]
  },
  {
   "cell_type": "code",
   "execution_count": 11,
   "id": "8a399fc8",
   "metadata": {},
   "outputs": [
    {
     "data": {
      "text/latex": [
       "$\\displaystyle x^{x}$"
      ],
      "text/plain": [
       "x**x"
      ]
     },
     "metadata": {},
     "output_type": "display_data"
    }
   ],
   "source": [
    "display(x**x)"
   ]
  },
  {
   "cell_type": "markdown",
   "id": "e4a8c48b",
   "metadata": {},
   "source": [
    "### Exercise 1 - print out with sympy\n",
    "It is powerful for calculating but not for displaying, you need LaTeX for that.<br>\n",
    "You can see this by the way it calculates instead of displays the raw input."
   ]
  },
  {
   "cell_type": "code",
   "execution_count": 32,
   "id": "b27ee520",
   "metadata": {},
   "outputs": [],
   "source": [
    "y = sym.symbols('y')\n",
    "x = sym.symbols('x')\n",
    "sr4 = sym.sqrt(4)\n",
    "srx = sym.sqrt(x)"
   ]
  },
  {
   "cell_type": "code",
   "execution_count": 33,
   "id": "ad873cc4",
   "metadata": {},
   "outputs": [
    {
     "data": {
      "text/latex": [
       "$\\displaystyle x^{2} y$"
      ],
      "text/plain": [
       "x**2*y"
      ]
     },
     "metadata": {},
     "output_type": "display_data"
    }
   ],
   "source": [
    "display(y*x**2)"
   ]
  },
  {
   "cell_type": "code",
   "execution_count": 34,
   "id": "21e2369b",
   "metadata": {
    "scrolled": true
   },
   "outputs": [
    {
     "data": {
      "text/latex": [
       "$\\displaystyle 2 x$"
      ],
      "text/plain": [
       "2*x"
      ]
     },
     "metadata": {},
     "output_type": "display_data"
    }
   ],
   "source": [
    "display(sr4*x)"
   ]
  },
  {
   "cell_type": "code",
   "execution_count": 35,
   "id": "61ce8280",
   "metadata": {},
   "outputs": [
    {
     "data": {
      "text/latex": [
       "$\\displaystyle x$"
      ],
      "text/plain": [
       "x"
      ]
     },
     "metadata": {},
     "output_type": "display_data"
    }
   ],
   "source": [
    "display(srx*srx)"
   ]
  },
  {
   "cell_type": "markdown",
   "id": "2fcf3a39",
   "metadata": {},
   "source": [
    "## Intro to LaTeX\n",
    "How to write equations and special characturs using latex coding in Python and a bit of markdown in iPython<br>\n",
    "two dollar signs means the start of LaTeX coding in markdown <br><br>\n",
    "$$\\frac{1+x}{2v-s^{t+4r}}$$"
   ]
  },
  {
   "cell_type": "code",
   "execution_count": 3,
   "id": "dd8ac29a",
   "metadata": {},
   "outputs": [
    {
     "data": {
      "text/latex": [
       "$\\displaystyle x_{mm} + y^{n+2k-15} - \\sqrt{5x+3z}$"
      ],
      "text/plain": [
       "<IPython.core.display.Math object>"
      ]
     },
     "metadata": {},
     "output_type": "display_data"
    }
   ],
   "source": [
    "display(Math('x_{mm} + y^{n+2k-15} - \\\\sqrt{5x+3z}'))"
   ]
  },
  {
   "cell_type": "code",
   "execution_count": 5,
   "id": "21f6f439",
   "metadata": {},
   "outputs": [
    {
     "data": {
      "text/latex": [
       "$\\displaystyle \\text{The equation is: }\\frac{1+x}{2v-s^{t+4r}}$"
      ],
      "text/plain": [
       "<IPython.core.display.Math object>"
      ]
     },
     "metadata": {},
     "output_type": "display_data"
    }
   ],
   "source": [
    "display(Math('\\\\text{The equation is: }\\\\frac{1+x}{2v-s^{t+4r}}'))"
   ]
  },
  {
   "cell_type": "markdown",
   "id": "610cf439",
   "metadata": {},
   "source": [
    "### Exercise 2 - LaTeX exercises"
   ]
  },
  {
   "cell_type": "code",
   "execution_count": 6,
   "id": "6fdd1076",
   "metadata": {},
   "outputs": [
    {
     "data": {
      "text/latex": [
       "$\\displaystyle 4x + 5y - 8z = 17$"
      ],
      "text/plain": [
       "<IPython.core.display.Math object>"
      ]
     },
     "metadata": {},
     "output_type": "display_data"
    }
   ],
   "source": [
    "display(Math('4x + 5y - 8z = 17'))"
   ]
  },
  {
   "cell_type": "code",
   "execution_count": 23,
   "id": "77d7f6d8",
   "metadata": {},
   "outputs": [
    {
     "data": {
      "text/latex": [
       "$\\displaystyle \\sin{(2\\pi ft + \\theta)}$"
      ],
      "text/plain": [
       "<IPython.core.display.Math object>"
      ]
     },
     "metadata": {},
     "output_type": "display_data"
    }
   ],
   "source": [
    "display(Math('\\\\sin{(2\\\\pi ft + \\\\theta)}'))"
   ]
  },
  {
   "cell_type": "code",
   "execution_count": 21,
   "id": "3856621c",
   "metadata": {},
   "outputs": [
    {
     "data": {
      "text/latex": [
       "$\\displaystyle e = mc^2$"
      ],
      "text/plain": [
       "<IPython.core.display.Math object>"
      ]
     },
     "metadata": {},
     "output_type": "display_data"
    }
   ],
   "source": [
    "display(Math('e = mc^2'derkgehegeh"
   ]
  },
  {
   "cell_type": "code",
   "execution_count": 22,
   "id": "e7be63c0",
   "metadata": {},
   "outputs": [
    {
     "data": {
      "text/latex": [
       "$\\displaystyle \\frac{4+5x^2}{(1+x)(1-x)}$"
      ],
      "text/plain": [
       "<IPython.core.display.Math object>"
      ]
     },
     "metadata": {},
     "output_type": "display_data"
    }
   ],
   "source": [
    "display(Math('\\\\frac{4+5x^2}{(1+x)(1-x)}'))"
   ]
  },
  {
   "cell_type": "markdown",
   "id": "a61ab20f",
   "metadata": {},
   "source": [
    "## Intro to Sympy part 2 - More sympy and integrate sympy with latex"
   ]
  },
  {
   "cell_type": "code",
   "execution_count": 29,
   "id": "c76aef7d",
   "metadata": {
    "scrolled": true
   },
   "outputs": [
    {
     "data": {
      "text/latex": [
       "$\\displaystyle e^{\\frac{\\left(- \\alpha + \\mu\\right)^{2}}{2 \\sigma^{2}}}$"
      ],
      "text/plain": [
       "exp((-alpha + mu)**2/(2*sigma**2))"
      ]
     },
     "metadata": {},
     "output_type": "display_data"
    }
   ],
   "source": [
    "mu, alpha, sigma = sym.symbols('mu, alpha, sigma')\n",
    "expr = sympy.exp((mu-alpha)**2 / (2*sigma**2))\n",
    "display(expr)"
   ]
  },
  {
   "cell_type": "markdown",
   "id": "83ef73b4",
   "metadata": {},
   "source": [
    "You can substitute a value by using the .subs() method"
   ]
  },
  {
   "cell_type": "code",
   "execution_count": 36,
   "id": "79e49f9e",
   "metadata": {},
   "outputs": [
    {
     "data": {
      "text/latex": [
       "$\\displaystyle 6$"
      ],
      "text/plain": [
       "6"
      ]
     },
     "execution_count": 36,
     "metadata": {},
     "output_type": "execute_result"
    }
   ],
   "source": [
    "# define symbols\n",
    "x, y = sym.symbols('x,y')\n",
    "# define expression\n",
    "expr = x + 4 + 2 * y\n",
    "# substitute values in expression\n",
    "expr.subs({x:-4,y:3})"
   ]
  },
  {
   "cell_type": "code",
   "execution_count": 37,
   "id": "172ef6a8",
   "metadata": {},
   "outputs": [
    {
     "data": {
      "text/latex": [
       "$\\displaystyle \\frac{3}{x}$"
      ],
      "text/plain": [
       "<IPython.core.display.Math object>"
      ]
     },
     "metadata": {},
     "output_type": "display_data"
    }
   ],
   "source": [
    "expr = 3/x\n",
    "display(Math(sym.latex(expr)))"
   ]
  },
  {
   "cell_type": "markdown",
   "id": "0b28ae1f",
   "metadata": {},
   "source": [
    "You have to convert a string with a calculation to a sympy object by using sympify()"
   ]
  },
  {
   "cell_type": "code",
   "execution_count": 39,
   "id": "012b029c",
   "metadata": {},
   "outputs": [
    {
     "data": {
      "text/latex": [
       "$\\displaystyle \\frac{3}{4}$"
      ],
      "text/plain": [
       "<IPython.core.display.Math object>"
      ]
     },
     "metadata": {},
     "output_type": "display_data"
    }
   ],
   "source": [
    "display(Math(sym.latex(sym.sympify('3/4'))))"
   ]
  },
  {
   "cell_type": "markdown",
   "id": "bed62062",
   "metadata": {},
   "source": [
    "### Exercise 3 - Sympy and LaTeX challenge"
   ]
  },
  {
   "cell_type": "code",
   "execution_count": 62,
   "id": "2c579bb9",
   "metadata": {
    "scrolled": true
   },
   "outputs": [
    {
     "data": {
      "text/latex": [
       "$\\displaystyle \\text{With x = -2: }\\quad \\Rightarrow \\quad x^2+4= 8$"
      ],
      "text/plain": [
       "<IPython.core.display.Math object>"
      ]
     },
     "metadata": {},
     "output_type": "display_data"
    },
    {
     "data": {
      "text/latex": [
       "$\\displaystyle \\text{With x = -1: }\\quad \\Rightarrow \\quad x^2+4= 5$"
      ],
      "text/plain": [
       "<IPython.core.display.Math object>"
      ]
     },
     "metadata": {},
     "output_type": "display_data"
    },
    {
     "data": {
      "text/latex": [
       "$\\displaystyle \\text{With x = 0: }\\quad \\Rightarrow \\quad x^2+4= 4$"
      ],
      "text/plain": [
       "<IPython.core.display.Math object>"
      ]
     },
     "metadata": {},
     "output_type": "display_data"
    },
    {
     "data": {
      "text/latex": [
       "$\\displaystyle \\text{With x = 1: }\\quad \\Rightarrow \\quad x^2+4= 5$"
      ],
      "text/plain": [
       "<IPython.core.display.Math object>"
      ]
     },
     "metadata": {},
     "output_type": "display_data"
    },
    {
     "data": {
      "text/latex": [
       "$\\displaystyle \\text{With x = 2: }\\quad \\Rightarrow \\quad x^2+4= 8$"
      ],
      "text/plain": [
       "<IPython.core.display.Math object>"
      ]
     },
     "metadata": {},
     "output_type": "display_data"
    }
   ],
   "source": [
    "# define symbols\n",
    "x = sym.symbols('x')\n",
    "# define expression\n",
    "expr = x**2+4\n",
    "# define substitute value list\n",
    "numli = [-2,-1,0,1,2]\n",
    "\n",
    "# loop trough the various numbers\n",
    "for num in numli:\n",
    "    ans = expr.subs({x:num})\n",
    "    display(Math('\\\\text{With x = %g: }\\\\quad \\\\Rightarrow \\\\quad x^2+4= %g' %(num, ans)))"
   ]
  },
  {
   "cell_type": "markdown",
   "id": "a75a0d3a",
   "metadata": {},
   "source": [
    "## Sympy to understand the law of exponents\n",
    "Only valid if the bases are the same"
   ]
  },
  {
   "cell_type": "code",
   "execution_count": 66,
   "id": "5a776eb1",
   "metadata": {},
   "outputs": [
    {
     "data": {
      "text/latex": [
       "$\\displaystyle x^yx^z = x^{y+z}$"
      ],
      "text/plain": [
       "<IPython.core.display.Math object>"
      ]
     },
     "metadata": {},
     "output_type": "display_data"
    }
   ],
   "source": [
    "display(Math('x^yx^z = x^{y+z}'))"
   ]
  },
  {
   "cell_type": "code",
   "execution_count": 67,
   "id": "32714e49",
   "metadata": {},
   "outputs": [
    {
     "data": {
      "text/latex": [
       "$\\displaystyle \\frac{x^y}{x^z} = x^{y-z}$"
      ],
      "text/plain": [
       "<IPython.core.display.Math object>"
      ]
     },
     "metadata": {},
     "output_type": "display_data"
    }
   ],
   "source": [
    "display(Math('\\\\frac{x^y}{x^z} = x^{y-z}'))"
   ]
  },
  {
   "cell_type": "code",
   "execution_count": 70,
   "id": "274ca360",
   "metadata": {},
   "outputs": [
    {
     "data": {
      "text/latex": [
       "$\\displaystyle x^{y} x^{z}$"
      ],
      "text/plain": [
       "x**y*x**z"
      ]
     },
     "metadata": {},
     "output_type": "display_data"
    },
    {
     "data": {
      "text/latex": [
       "$\\displaystyle x^{y + z}$"
      ],
      "text/plain": [
       "x**(y + z)"
      ]
     },
     "metadata": {},
     "output_type": "display_data"
    }
   ],
   "source": [
    "x,y,z = sym.symbols('x,y,z')\n",
    "ex = x**y * x**z\n",
    "display(ex)\n",
    "# simplify expression because of law of exponents\n",
    "display(sym.simplify(ex))"
   ]
  },
  {
   "cell_type": "code",
   "execution_count": 72,
   "id": "24d2e45d",
   "metadata": {},
   "outputs": [
    {
     "data": {
      "text/latex": [
       "$\\displaystyle x^{y} x^{- z}$"
      ],
      "text/plain": [
       "x**y/x**z"
      ]
     },
     "metadata": {},
     "output_type": "display_data"
    },
    {
     "data": {
      "text/latex": [
       "$\\displaystyle x^{y - z}$"
      ],
      "text/plain": [
       "x**(y - z)"
      ]
     },
     "metadata": {},
     "output_type": "display_data"
    }
   ],
   "source": [
    "ex2 = x**y / x**z\n",
    "display(ex2)\n",
    "# simplify expression because of law of exponents\n",
    "display(sym.simplify(ex2))"
   ]
  },
  {
   "cell_type": "code",
   "execution_count": 73,
   "id": "b084c448",
   "metadata": {},
   "outputs": [
    {
     "data": {
      "text/plain": [
       "0.125"
      ]
     },
     "execution_count": 73,
     "metadata": {},
     "output_type": "execute_result"
    }
   ],
   "source": [
    "2**2*2**-5"
   ]
  },
  {
   "cell_type": "code",
   "execution_count": 74,
   "id": "ac15bd58",
   "metadata": {},
   "outputs": [
    {
     "data": {
      "text/plain": [
       "0.125"
      ]
     },
     "execution_count": 74,
     "metadata": {},
     "output_type": "execute_result"
    }
   ],
   "source": [
    "2**(2-5)"
   ]
  },
  {
   "cell_type": "markdown",
   "id": "cefa0aa5",
   "metadata": {},
   "source": [
    "Check if equivelant with sympy.Eq()"
   ]
  },
  {
   "cell_type": "code",
   "execution_count": 75,
   "id": "df05206d",
   "metadata": {},
   "outputs": [
    {
     "data": {
      "text/latex": [
       "$\\displaystyle \\text{True}$"
      ],
      "text/plain": [
       "True"
      ]
     },
     "execution_count": 75,
     "metadata": {},
     "output_type": "execute_result"
    }
   ],
   "source": [
    "sym.Eq(4, 2+1+1)"
   ]
  },
  {
   "cell_type": "code",
   "execution_count": 81,
   "id": "2944b1e2",
   "metadata": {},
   "outputs": [
    {
     "data": {
      "text/latex": [
       "$\\displaystyle \\text{False}$"
      ],
      "text/plain": [
       "False"
      ]
     },
     "execution_count": 81,
     "metadata": {},
     "output_type": "execute_result"
    }
   ],
   "source": [
    "sym.Eq(4, 5.5)"
   ]
  }
 ],
 "metadata": {
  "kernelspec": {
   "display_name": "Python 3 (ipykernel)",
   "language": "python",
   "name": "python3"
  },
  "language_info": {
   "codemirror_mode": {
    "name": "ipython",
    "version": 3
   },
   "file_extension": ".py",
   "mimetype": "text/x-python",
   "name": "python",
   "nbconvert_exporter": "python",
   "pygments_lexer": "ipython3",
   "version": "3.9.2"
  }
 },
 "nbformat": 4,
 "nbformat_minor": 5
}
